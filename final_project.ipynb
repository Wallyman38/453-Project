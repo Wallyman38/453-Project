{
 "cells": [
  {
   "cell_type": "code",
   "execution_count": null,
   "source": [
    "import pandas as pd\n",
    "df = pd.read_csv(\"big_reviews.csv\")\n",
    "df.head()"
   ],
   "outputs": [
    {
     "output_type": "error",
     "ename": "Error",
     "evalue": "Session cannot generate requests",
     "traceback": [
      "Error: Session cannot generate requests",
      "at w.executeCodeCell (/home/students/dmwalize/.vscode/extensions/ms-toolsai.jupyter-2021.8.1236758218/out/client/extension.js:90:327199)",
      "at w.execute (/home/students/dmwalize/.vscode/extensions/ms-toolsai.jupyter-2021.8.1236758218/out/client/extension.js:90:326520)",
      "at w.start (/home/students/dmwalize/.vscode/extensions/ms-toolsai.jupyter-2021.8.1236758218/out/client/extension.js:90:322336)",
      "at processTicksAndRejections (internal/process/task_queues.js:93:5)",
      "at async t.CellExecutionQueue.executeQueuedCells (/home/students/dmwalize/.vscode/extensions/ms-toolsai.jupyter-2021.8.1236758218/out/client/extension.js:90:336863)",
      "at async t.CellExecutionQueue.start (/home/students/dmwalize/.vscode/extensions/ms-toolsai.jupyter-2021.8.1236758218/out/client/extension.js:90:336403)"
     ]
    }
   ],
   "metadata": {}
  },
  {
   "cell_type": "code",
   "execution_count": null,
   "source": [
    "cleandf = df\n",
    "print(df['appid'].unique())\n",
    "df['appid'] = df['appid'].astype(str)\n",
    "cleandf['appid'] = cleandf['appid'].map({'620': 'Portal 2', '252950': 'Rocket League', '381210': 'Dead by Daylight', '289070': \"Sid Meier's Civilization VI\", '264710': \"Subnautica\", \n",
    "    '477160': \"Human: Fall Flat\", \"620980\": \"Beat Saber\", \"541210\": \"Cold Waters\", \"242920\": \"Banished\", \"504230\": \"Celeste\", \"240720\": \"Getting Over It with Bennett Foddy\",\n",
    "    \"253230\": \"A Hat In Time\", \"728880\": \"Overcooked! 2\", \"732810\": \"Slipstream\", \"242760\": \"The Forest\", \"688130\": \"Pogostuck: Rage With Your Friends\", \n",
    "    \"621060\": \"PC Building SImulator\", \"282560\": \"RollerCoaster Tycoon World\", \"577800\": \"NBA 2K18\", \"1225330\": \"NBA 2K21\", \"258180\": \"Deus Ex: The Fall\", \"686600\": \"Rapture Rejects\",\n",
    "    \"583950\": \"Artifact\", \"292730\": \"Call of Duty: Infinite Warfare\", \"1128000\": \"Cube World\", \"841370\": \"NBA 2K19\", \"247730\": \"Nether: Resurrected\", \"2870\": \"X Rebirth\",\n",
    "    \"1056960\": \"Wolfenstein: Youngblood\", \"285190\": \"Warhammer 40,000: Dawn of War III\", \"236510\": \"Takedown: Red Sabre\", \"834910\": \"ATLAS\", \"1180380\": \"Stay Out\",\n",
    "    \"792990\": \"Identity\", \"390340\": \"Umbrella Corps\", \"723390\": \"Hunt Down The Freeman\", \"1015500\": \"WWE 2K20\", \"334040\": \"Down To One\", \"332200\": \"Axiom Verge\", \n",
    "    \"275390\": \"Guacamelee! Super Turbo Championship Edition\", \"250900\": \"The Binding of Isacc: Rebirth\", \"206440\": \"To the Moon\", \"200900\": \"Cave Story+\", \"297130\": \"Titan Souls\",\n",
    "    \"250760\": \"Shovel Knight: Treasure Trove\", \"40800\": \"Super Meat Boy\", \"611760\": \"Don't Escape: 4 Days to Survive\", \"247240\": \"Volgarr the Viking\", \n",
    "    \"428550\": \"Momodora: Reverie Under The Moonlight\", \"311690\": \"Enter the Gungeon\", \"385560\": \"Shadow Complex Remastered\", \"283640\": \"Salt and Sanctuary\", \"322110\": \"20XX\",\n",
    "    \"367520\": \"Hollow Knight\", \"583470\": \"The End Is Nigh\", \"427520\": \"Factorio\", \"294100\": \"RimWorld\", \"581320\": \"Insurgency: Sandstorm\", \"646570\": \"Slay the Spire\",\n",
    "    \"227300\": \"Euro Truck Simulator 2\", \"431960\": \"Wallpaper Engine\", \"640820\": \"Pathfinder: Kingmaker\", \"787860\": \"Farming Simulator 19\", \"690830\": \"Foundation\",\n",
    "    \"899440\": \"GOD EATER 3\", \"233860\": \"Kenshi\", \"590380\": \"Into the Breach\", \"552500\": \"Warhammer: Vermintide 2\", '1222700': \"A Way Out\", \"397540\": \"Boarderlands 3\", \n",
    "    \"814380\": \"Sekiro: Shadows Die Twice\", \"779340\": \"Total War: THREE KINGDOMS\", \"1190460\": \"Death stranding\", \"629760\": \"MORDHAU\", \"546560\": \"Half-Life Alyx\",\n",
    "    \"782330\": \"DOOM Eternal\", \"1017900\": \"Age of Empires: Definitive Edition\", \"1055540\": \"A Short Hike\", \"1089980\": \"The Henry Stickmin Collection\", \"1158310\": \"Crusader Kings III\"}) \n",
    "cleandf[\"appid\"].unique()"
   ],
   "outputs": [
    {
     "output_type": "error",
     "ename": "Error",
     "evalue": "Session cannot generate requests",
     "traceback": [
      "Error: Session cannot generate requests",
      "at w.executeCodeCell (/home/students/dmwalize/.vscode/extensions/ms-toolsai.jupyter-2021.8.1236758218/out/client/extension.js:90:327199)",
      "at w.execute (/home/students/dmwalize/.vscode/extensions/ms-toolsai.jupyter-2021.8.1236758218/out/client/extension.js:90:326520)",
      "at w.start (/home/students/dmwalize/.vscode/extensions/ms-toolsai.jupyter-2021.8.1236758218/out/client/extension.js:90:322336)",
      "at processTicksAndRejections (internal/process/task_queues.js:93:5)",
      "at async t.CellExecutionQueue.executeQueuedCells (/home/students/dmwalize/.vscode/extensions/ms-toolsai.jupyter-2021.8.1236758218/out/client/extension.js:90:336863)",
      "at async t.CellExecutionQueue.start (/home/students/dmwalize/.vscode/extensions/ms-toolsai.jupyter-2021.8.1236758218/out/client/extension.js:90:336403)"
     ]
    }
   ],
   "metadata": {}
  }
 ],
 "metadata": {
  "orig_nbformat": 4,
  "language_info": {
   "name": "python",
   "version": "3.9.6",
   "mimetype": "text/x-python",
   "codemirror_mode": {
    "name": "ipython",
    "version": 3
   },
   "pygments_lexer": "ipython3",
   "nbconvert_exporter": "python",
   "file_extension": ".py"
  },
  "kernelspec": {
   "name": "python3",
   "display_name": "Python 3.9.6 64-bit ('python': venv)"
  },
  "interpreter": {
   "hash": "e21470a34ae121fa6a0eee1039483b03205b97f43b9189a117a3596d201719ed"
  }
 },
 "nbformat": 4,
 "nbformat_minor": 2
}